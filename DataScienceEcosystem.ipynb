{
 "cells": [
  {
   "cell_type": "markdown",
   "id": "b78474ac-058b-415a-bc75-f34837f6d1c8",
   "metadata": {},
   "source": [
    "# Data Science Tools and Ecosystem"
   ]
  },
  {
   "cell_type": "markdown",
   "id": "422847bc-2648-4105-8122-068b4dd765f0",
   "metadata": {},
   "source": [
    "### In this notebook, Data Science Tools and Ecosystem are summarized."
   ]
  },
  {
   "cell_type": "markdown",
   "id": "0287c083-aa98-4040-87c7-eda76694cb56",
   "metadata": {},
   "source": [
    "__Objectives:__\n",
    "- List popular languages for Data Science\n",
    "- List commonly used libraries in Data Science\n",
    "- Create a table of popular Data Science Tools\n",
    "- Write some examples of arithmetic expressions in Pyhton"
   ]
  },
  {
   "cell_type": "markdown",
   "id": "a38ee133-17de-4dea-b05d-92187a8bc082",
   "metadata": {},
   "source": [
    "Some of the popular languages that Data Scientists use are:\n",
    "1. Pyhton\n",
    "2. R\n",
    "3. Julia\n",
    "4. MySql"
   ]
  },
  {
   "cell_type": "markdown",
   "id": "1578b661-bf88-4551-a124-ef45ce7190b2",
   "metadata": {},
   "source": [
    "Some of the commonly used libraries used by Data Scientists include:\n",
    "1. NumPy\n",
    "2. Pandas\n",
    "3. Matplotlib\n",
    "4. Seaborn"
   ]
  },
  {
   "cell_type": "markdown",
   "id": "b5bbb743-a220-40dc-9d89-e546a6849047",
   "metadata": {},
   "source": [
    "| Data Sience Tools |\n",
    "|-------------------|\n",
    "| Google Colab      |\n",
    "| Jupyter Notebook  |\n",
    "| RStudio           |\n",
    "| Tableau           |"
   ]
  },
  {
   "cell_type": "markdown",
   "id": "cc172295-5c29-4d0c-84d7-310e14091505",
   "metadata": {},
   "source": [
    "### Below are a few examples of evaluating arithmetic expressions in Python"
   ]
  },
  {
   "cell_type": "code",
   "execution_count": 2,
   "id": "9d9f42ff-40ac-4297-bca5-3d5121135dbf",
   "metadata": {},
   "outputs": [
    {
     "data": {
      "text/plain": [
       "17"
      ]
     },
     "execution_count": 2,
     "metadata": {},
     "output_type": "execute_result"
    }
   ],
   "source": [
    "# This a simple arithmetic expression to multiply then add integers\n",
    "(3*4)+5"
   ]
  },
  {
   "cell_type": "code",
   "execution_count": 3,
   "id": "dd31828a-5ba6-4009-a458-fb16bce0c707",
   "metadata": {},
   "outputs": [
    {
     "data": {
      "text/plain": [
       "3.3333333333333335"
      ]
     },
     "execution_count": 3,
     "metadata": {},
     "output_type": "execute_result"
    }
   ],
   "source": [
    "# This will convert 200 minutes to hours by diving by 60\n",
    "200/60"
   ]
  },
  {
   "cell_type": "markdown",
   "id": "53356aad-f9a7-4ae2-95a7-c24729395a5b",
   "metadata": {},
   "source": [
    "## Author\n",
    "Faig Tayibov"
   ]
  },
  {
   "cell_type": "code",
   "execution_count": null,
   "id": "5fd972b3-8bf0-4e9e-9d43-1f7ca662b60f",
   "metadata": {},
   "outputs": [],
   "source": []
  }
 ],
 "metadata": {
  "kernelspec": {
   "display_name": "Python 3 (ipykernel)",
   "language": "python",
   "name": "python3"
  },
  "language_info": {
   "codemirror_mode": {
    "name": "ipython",
    "version": 3
   },
   "file_extension": ".py",
   "mimetype": "text/x-python",
   "name": "python",
   "nbconvert_exporter": "python",
   "pygments_lexer": "ipython3",
   "version": "3.12.8"
  }
 },
 "nbformat": 4,
 "nbformat_minor": 5
}
